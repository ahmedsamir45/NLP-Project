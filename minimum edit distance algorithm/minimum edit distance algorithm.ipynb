{
 "cells": [
  {
   "cell_type": "markdown",
   "id": "c50df925",
   "metadata": {},
   "source": [
    "# احمد سمير عوض\n",
    "# 20211089\n",
    "# رياضة و حاسب"
   ]
  },
  {
   "cell_type": "markdown",
   "id": "873596bb",
   "metadata": {},
   "source": [
    "# minimum edit distance algorithm"
   ]
  },
  {
   "cell_type": "code",
   "execution_count": 1,
   "id": "fb980f7b",
   "metadata": {},
   "outputs": [],
   "source": [
    "import numpy as np"
   ]
  },
  {
   "cell_type": "code",
   "execution_count": 2,
   "id": "35ffb8fe",
   "metadata": {},
   "outputs": [],
   "source": [
    "def min_ed_dis(target,source):\n",
    "    # min_ed_dis minmum edit distance\n",
    "    # target,correct word\n",
    "    # source: written word\n",
    "    \n",
    "    target = [k for k in target]\n",
    "    source = [k for k in source]\n",
    "    sol= np.zeros((len(source),len(target)))\n",
    "    \n",
    "    # first row and column \n",
    "    sol[0]=[j for j in range(len(target))]\n",
    "    sol[:,0] = [j for j in range(len(source))]\n",
    "    \n",
    "    # add anchor value \n",
    "    if target[1]!= source[1]:\n",
    "        sol[1,1] = 2       \n",
    "        \n",
    "    # fill in rest\n",
    "    \n",
    "    # through every column\n",
    "    for c in range(1,len(target)):\n",
    "        # through every row\n",
    "        for r in range(1,len(source)):\n",
    "            if target[c] != source[r]:\n",
    "                min(sol[r-1,c],sol[r,c-1])+1\n",
    "            else:\n",
    "                sol[r,c]=sol[r-1,c-1]\n",
    "    print(\"Edit distance matrix:\")\n",
    "    print(sol)\n",
    "    print(\"-\"*50)\n",
    "    print(\"minumum edit distance is:\",sol[len(source)-1,len(target)-1])"
   ]
  },
  {
   "cell_type": "code",
   "execution_count": 3,
   "id": "bef6e102",
   "metadata": {},
   "outputs": [
    {
     "name": "stdout",
     "output_type": "stream",
     "text": [
      "Edit distance matrix:\n",
      "[[0. 1. 2. 3. 4.]\n",
      " [1. 2. 0. 2. 0.]\n",
      " [2. 0. 0. 0. 2.]]\n",
      "--------------------------------------------------\n",
      "minumum edit distance is: 2.0\n"
     ]
    }
   ],
   "source": [
    "min_ed_dis(\"#bcde\",\"#de\")"
   ]
  }
 ],
 "metadata": {
  "kernelspec": {
   "display_name": "Python 3 (ipykernel)",
   "language": "python",
   "name": "python3"
  },
  "language_info": {
   "codemirror_mode": {
    "name": "ipython",
    "version": 3
   },
   "file_extension": ".py",
   "mimetype": "text/x-python",
   "name": "python",
   "nbconvert_exporter": "python",
   "pygments_lexer": "ipython3",
   "version": "3.10.9"
  }
 },
 "nbformat": 4,
 "nbformat_minor": 5
}
